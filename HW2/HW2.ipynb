{
 "cells": [
  {
   "attachments": {},
   "cell_type": "markdown",
   "metadata": {},
   "source": [
    "# Import Library"
   ]
  },
  {
   "cell_type": "code",
   "execution_count": 341,
   "metadata": {},
   "outputs": [],
   "source": [
    "import pandas as pd\n",
    "import numpy as np\n",
    "from sklearn.decomposition import PCA\n",
    "import matplotlib.pyplot as plt\n",
    "from skimage import io  # Using scikit-image to process image\n",
    "from enum import Enum\n",
    "import os\n"
   ]
  },
  {
   "cell_type": "code",
   "execution_count": 493,
   "metadata": {},
   "outputs": [],
   "source": [
    "class Config(Enum):\n",
    "    num_hidden = 64\n",
    "    num_component = 2\n",
    "    learning_rate = 0.01\n",
    "    random_seed = 714\n",
    "    epoch = 512\n",
    "\n",
    "\n",
    "class ImageType(Enum):\n",
    "    Carambula = 0\n",
    "    Lychee = 1\n",
    "    Pear = 2\n",
    "\n",
    "\n",
    "def rng_generator():\n",
    "    return np.random.default_rng(Config.random_seed.value)\n",
    "\n",
    "\n",
    "pca = PCA(n_components=Config.num_component.value)\n"
   ]
  },
  {
   "attachments": {},
   "cell_type": "markdown",
   "metadata": {},
   "source": [
    "# Read image & reduce dimension"
   ]
  },
  {
   "cell_type": "code",
   "execution_count": 398,
   "metadata": {},
   "outputs": [],
   "source": [
    "class ImageLoader:\n",
    "    def __init__(self, dir, split) -> None:\n",
    "        self.split = split\n",
    "        self.dir = os.path.join(\n",
    "            dir, \"Data_train\" if split == \"train\" else \"Data_test\"\n",
    "        )\n",
    "\n",
    "        self.images = []\n",
    "        self.labels = []\n",
    "\n",
    "        for index in ImageType:\n",
    "            images_path = os.path.join(self.dir, index.name, \"*.png\")\n",
    "            images = io.imread_collection(images_path).concatenate() / 255\n",
    "\n",
    "            self.images.extend(images)\n",
    "            self.labels.extend([index.value for _ in images])\n",
    "\n",
    "        self.images_pca = self.__get_PCA_images()\n",
    "\n",
    "    def __get_PCA_images(self):\n",
    "        self.images_reshape = [image.flatten() for image in self.images]\n",
    "\n",
    "        if self.split == \"train\":\n",
    "            images_pca = list(pca.fit_transform(self.images_reshape))\n",
    "        else:\n",
    "            images_pca = list(pca.transform(self.images_reshape))\n",
    "\n",
    "        return [image.reshape(-1, 1) for image in images_pca]\n",
    "\n",
    "    def get(self):\n",
    "        return self.images_pca, self.labels\n"
   ]
  },
  {
   "cell_type": "code",
   "execution_count": 399,
   "metadata": {},
   "outputs": [],
   "source": [
    "train_x, train_y = ImageLoader(\".\", \"train\").get()\n",
    "test_x, test_y = ImageLoader(\".\", \"test\").get()\n"
   ]
  },
  {
   "attachments": {},
   "cell_type": "markdown",
   "metadata": {},
   "source": [
    "# NN Model"
   ]
  },
  {
   "cell_type": "code",
   "execution_count": 400,
   "metadata": {},
   "outputs": [],
   "source": [
    "class Activation:\n",
    "    def ReLU(self, x):\n",
    "        return np.maximum(0, x)\n",
    "\n",
    "    def ReLU_derivative(self, x):\n",
    "        return (x > 0) * 1\n",
    "\n",
    "    def sigmoid(self, x):\n",
    "        return 1 / (1 + np.exp(-x))\n",
    "\n",
    "    def sigmoid_derivative(self, x):\n",
    "        return self.sigmoid(x) * (1 - self.sigmoid(x))\n",
    "\n",
    "    def tanh(self, x):\n",
    "        return np.tanh(x)\n",
    "\n",
    "    def tanh_derivative(self, x):\n",
    "        return 1 - self.tanh(x) ** 2\n",
    "\n",
    "    def get(self, type: str):\n",
    "        if type == \"sigmoid\":\n",
    "            return self.sigmoid, self.sigmoid_derivative\n",
    "        elif type == \"ReLU\":\n",
    "            return self.ReLU, self.ReLU_derivative\n",
    "        elif type == \"tanh\":\n",
    "            return self.tanh, self.tanh_derivative\n",
    "\n",
    "\n",
    "def softmax(x):\n",
    "    e_x = np.exp(x - np.max(x))\n",
    "    return e_x / np.sum(e_x)\n"
   ]
  },
  {
   "cell_type": "code",
   "execution_count": 478,
   "metadata": {},
   "outputs": [],
   "source": [
    "class NN:\n",
    "    def __init__(self, size: list, activation_type=\"sigmoid\") -> None:\n",
    "        self.size = size\n",
    "        self.num_layer = len(size)\n",
    "\n",
    "        self.bias = [rng.random((i, 1)) for i in size[1:]]\n",
    "        self.weights = [rng.random((j, k)) for k, j in zip(size[:-1], size[1:])]\n",
    "\n",
    "        self.acti_func, self.acti_derivative = Activation.get(\n",
    "            Activation(), activation_type\n",
    "        )\n",
    "\n",
    "    def cost_derivative(self, label, pred):\n",
    "        pred[label] = pred[label] - 1\n",
    "        return pred\n",
    "\n",
    "    def loss_func(self, label, pred):\n",
    "        pred[label] = pred[label] - 1\n",
    "        return np.mean(pred**2)\n",
    "\n",
    "    def shuffle_data(self, features, labels):\n",
    "        combine = list(zip(features, labels))\n",
    "        rng.shuffle(combine)\n",
    "        return zip(*combine)\n",
    "\n",
    "    def feed_forward(self, feature: np.ndarray) -> np.ndarray:\n",
    "        # Initial declare the variable\n",
    "        activation = feature\n",
    "        activations = [activation]\n",
    "        zs = []\n",
    "\n",
    "        # Hidden layer\n",
    "        for b, w in zip(self.bias, self.weights):\n",
    "            z = np.dot(w, activation) + b\n",
    "            activation = self.acti_func(z)\n",
    "\n",
    "            zs.append(z)\n",
    "            activations.append(activation)\n",
    "\n",
    "        # Output layer\n",
    "        activations[-1] = softmax(activations[-1])\n",
    "\n",
    "        return zs, activations\n",
    "\n",
    "    def back_propagation(self, feature, label, learning_rate):\n",
    "        zs, activations = self.feed_forward(feature)\n",
    "        weight_gradient = [np.zeros(w.shape) for w in self.weights]\n",
    "        bias_gradient = [np.zeros(b.shape) for b in self.bias]\n",
    "\n",
    "        sensitivity = self.cost_derivative(\n",
    "            label, activations[-1]\n",
    "        ) * self.acti_derivative(zs[-1])\n",
    "\n",
    "        bias_gradient[-1] = sensitivity\n",
    "        weight_gradient[-1] = np.dot(sensitivity, activations[-2].T)\n",
    "\n",
    "        for l in range(2, self.num_layer):\n",
    "            sensitivity = np.dot(\n",
    "                self.weights[-l + 1].T, sensitivity\n",
    "            ) * self.acti_derivative(zs[-l])\n",
    "\n",
    "            bias_gradient[-l] = sensitivity\n",
    "            weight_gradient[-l] = np.dot(sensitivity, activations[-l - 1].T)\n",
    "\n",
    "        self.bias = [\n",
    "            b - learning_rate * b_gradient\n",
    "            for b, b_gradient in zip(self.bias, bias_gradient)\n",
    "        ]\n",
    "\n",
    "        self.weights = [\n",
    "            w - learning_rate * w_gradient\n",
    "            for w, w_gradient in zip(self.weights, weight_gradient)\n",
    "        ]\n",
    "\n",
    "        self.batch_loss.append(self.loss_func(label, activations[-1]))\n",
    "\n",
    "    def train(self, features, labels, learning_rate, epoch):\n",
    "        self.loss = []\n",
    "        for _ in range(epoch):\n",
    "            self.batch_loss = []\n",
    "            features, labels = self.shuffle_data(features, labels)\n",
    "            for label, feature in zip(labels, features):\n",
    "                self.back_propagation(feature, label, learning_rate)\n",
    "            self.loss.append(np.mean(self.batch_loss))\n",
    "\n",
    "    def pred(self, test_features):\n",
    "        test_result = [\n",
    "            np.argmax(self.feed_forward(feature)[1][-1])\n",
    "            for feature in test_features\n",
    "        ]\n",
    "\n",
    "        return test_result\n",
    "\n",
    "    def plot_loss_curve(self):\n",
    "        plt.plot(range(len(self.loss)), self.loss)\n",
    "        plt.show()\n"
   ]
  },
  {
   "cell_type": "code",
   "execution_count": 494,
   "metadata": {},
   "outputs": [],
   "source": [
    "rng = rng_generator()\n",
    "\n",
    "model = NN(\n",
    "    [Config.num_component.value, Config.num_hidden.value, len(ImageType)],\n",
    "    \"ReLU\",\n",
    ")\n",
    "model.train(train_x, train_y, Config.learning_rate.value, Config.epoch.value)\n",
    "pred_y = model.pred(test_x)\n"
   ]
  },
  {
   "cell_type": "code",
   "execution_count": 495,
   "metadata": {},
   "outputs": [
    {
     "name": "stdout",
     "output_type": "stream",
     "text": [
      "Accuracy: 88.353%\n"
     ]
    },
    {
     "data": {
      "image/png": "[encoded data removed]",
      "text/plain": [
       "<Figure size 640x480 with 1 Axes>"
      ]
     },
     "metadata": {},
     "output_type": "display_data"
    }
   ],
   "source": [
    "def evaluate(pred_y, test_y):\n",
    "    corr = [(pred == test) * 1 for pred, test in zip(pred_y, test_y)]\n",
    "    return np.mean(corr)\n",
    "\n",
    "\n",
    "print(f\"Accuracy: {evaluate(pred_y, test_y) * 100:.3f}%\")\n",
    "model.plot_loss_curve()\n"
   ]
  }
 ],
 "metadata": {
  "kernelspec": {
   "display_name": "ML2023",
   "language": "python",
   "name": "python3"
  },
  "language_info": {
   "codemirror_mode": {
    "name": "ipython",
    "version": 3
   },
   "file_extension": ".py",
   "mimetype": "text/x-python",
   "name": "python",
   "nbconvert_exporter": "python",
   "pygments_lexer": "ipython3",
   "version": "3.11.2"
  },
  "orig_nbformat": 4
 },
 "nbformat": 4,
 "nbformat_minor": 2
}
