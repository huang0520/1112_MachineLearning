{
 "cells": [
  {
   "attachments": {},
   "cell_type": "markdown",
   "metadata": {},
   "source": [
    "# Library"
   ]
  },
  {
   "cell_type": "code",
   "execution_count": 10,
   "metadata": {},
   "outputs": [],
   "source": [
    "import pandas as pd\n",
    "import numpy as np\n",
    "from numpy.linalg import inv, norm\n",
    "import matplotlib.pyplot as plt\n",
    "import seaborn as sns\n",
    "from enum import Enum\n"
   ]
  },
  {
   "cell_type": "code",
   "execution_count": 11,
   "metadata": {},
   "outputs": [],
   "source": [
    "class Config(Enum):\n",
    "    seed = 100\n"
   ]
  },
  {
   "cell_type": "code",
   "execution_count": 12,
   "metadata": {},
   "outputs": [],
   "source": [
    "rng = np.random.default_rng(Config.seed.value)\n"
   ]
  },
  {
   "attachments": {},
   "cell_type": "markdown",
   "metadata": {},
   "source": [
    "# Import data & Preprocess"
   ]
  },
  {
   "cell_type": "code",
   "execution_count": 13,
   "metadata": {},
   "outputs": [],
   "source": [
    "class CalDataset:\n",
    "    def __init__(self) -> None:\n",
    "        feature = pd.read_csv(\"./exercise.csv\")\n",
    "        label = pd.read_csv(\"./calories.csv\")\n",
    "\n",
    "        feature = feature.drop(\"User_ID\", axis=1)\n",
    "        label = label.drop(\"User_ID\", axis=1)\n",
    "\n",
    "        feature[\"Gender\"] = feature[\"Gender\"].map({\"male\": 1, \"female\": 0})\n",
    "\n",
    "        self.header = feature.columns\n",
    "\n",
    "        self.data = pd.concat((feature, label), axis=1).to_numpy()\n",
    "\n",
    "    def random_split(self):\n",
    "        rng_data = rng.permutation(self.data)\n",
    "\n",
    "        train_split = int(np.floor(0.7 * self.__len__()))\n",
    "        validate_split = int(np.floor(0.8 * self.__len__()))\n",
    "\n",
    "        return (\n",
    "            rng_data[:train_split],\n",
    "            rng_data[train_split:validate_split],\n",
    "            rng_data[validate_split:],\n",
    "        )\n",
    "\n",
    "    def __getitem__(self, index: int):\n",
    "        return self.data[index]\n",
    "\n",
    "    def __len__(self):\n",
    "        return len(self.data)\n",
    "\n",
    "    def getHeader(self):\n",
    "        return self.header\n"
   ]
  },
  {
   "cell_type": "code",
   "execution_count": 14,
   "metadata": {},
   "outputs": [],
   "source": [
    "data = CalDataset()\n",
    "train_data, validate_data, test_data = data.random_split()\n"
   ]
  },
  {
   "cell_type": "code",
   "execution_count": 15,
   "metadata": {},
   "outputs": [],
   "source": [
    "def calMSE(predict: np.ndarray, actual: np.ndarray):\n",
    "    return np.mean((predict - actual) ** 2)\n",
    "\n",
    "\n",
    "def calCorr(header, data: np.ndarray):\n",
    "    corr = np.corrcoef(data.T).T[-1][:-1]\n",
    "    for head, corrcoef in zip(header, corr):\n",
    "        print(f\"{head : <10} {corrcoef}\")\n"
   ]
  },
  {
   "cell_type": "code",
   "execution_count": 63,
   "metadata": {},
   "outputs": [],
   "source": [
    "def getBasisMatrix(features: np.ndarray, n_centroids):\n",
    "    def __getGaussianBasis(x: np.ndarray, mu: np.ndarray, s: np.ndarray):\n",
    "        numerator = -((x - mu) ** 2)\n",
    "        denominator = 2 * s**2\n",
    "\n",
    "        return np.exp(numerator / denominator)\n",
    "\n",
    "    def __getmu(s, x_min, n_centroid):\n",
    "        mu = [x_min + s * (i + 1) for i in range(int(n_centroid))]\n",
    "        return np.asarray(mu)\n",
    "\n",
    "    n_centroids = np.array(n_centroids)\n",
    "    n_row = features.shape[0]\n",
    "    x_mins = np.min(features, axis=0)\n",
    "    x_maxs = np.max(features, axis=0)\n",
    "\n",
    "    ss = (x_maxs - x_mins) / (n_centroids - 1)\n",
    "\n",
    "    mus = [\n",
    "        __getmu(s, x_min, n_centroid)\n",
    "        for s, x_min, n_centroid in zip(ss, x_mins, n_centroids - 1)\n",
    "    ]\n",
    "\n",
    "    phi_each = [np.ones((mu.shape[0], 1, n_row)) for mu in mus]\n",
    "\n",
    "    for i, (x, s, mu) in enumerate(zip(features.T, ss, mus)):\n",
    "        for j, mu_j in enumerate(mu):\n",
    "            phi_each[i][j][0] = __getGaussianBasis(x, mu_j, s)\n",
    "\n",
    "    matrix = np.ones((1, 1, n_row))\n",
    "\n",
    "    for phi in phi_each:\n",
    "        matrix = np.einsum(\"ijk,mjk->imk\", matrix, phi)\n",
    "        matrix = matrix.reshape((-1, 1, phi.shape[-1]))\n",
    "\n",
    "    return matrix.reshape((n_row, -1))\n",
    "\n",
    "\n",
    "def normalize(feature: np.ndarray):\n",
    "    normcoef = norm(feature, axis=0)\n",
    "    return (feature.T / normcoef[:, np.newaxis]).T\n",
    "\n",
    "\n",
    "def chooseFeatures(data: np.ndarray, num_feature):\n",
    "    corr = np.corrcoef(data.T).T[-1][:-1]\n",
    "    return np.argpartition(corr, num_feature)[num_feature:]\n"
   ]
  },
  {
   "cell_type": "code",
   "execution_count": 26,
   "metadata": {},
   "outputs": [],
   "source": [
    "def MLR(\n",
    "    train_feature, train_label, test_feature, n_centroids=[2, 2, 2, 2, 2, 2, 2]\n",
    "):\n",
    "    x_basisMatrix = getBasisMatrix(train_feature, n_centroids)\n",
    "    weight = (\n",
    "        inv(x_basisMatrix.T @ x_basisMatrix) @ x_basisMatrix.T @ train_label\n",
    "    )\n",
    "\n",
    "    y_basisMatrix = getBasisMatrix(test_feature, n_centroids)\n",
    "    return y_basisMatrix @ weight\n"
   ]
  },
  {
   "cell_type": "code",
   "execution_count": 61,
   "metadata": {},
   "outputs": [
    {
     "data": {
      "text/plain": [
       "array([1, 1, 1, 1, 1, 1, 1])"
      ]
     },
     "execution_count": 61,
     "metadata": {},
     "output_type": "execute_result"
    }
   ],
   "source": [
    "np.asarray([2, 2, 2, 2, 2, 2, 2]) - 1\n"
   ]
  },
  {
   "cell_type": "code",
   "execution_count": 64,
   "metadata": {},
   "outputs": [
    {
     "name": "stdout",
     "output_type": "stream",
     "text": [
      "11907.051\n"
     ]
    },
    {
     "name": "stderr",
     "output_type": "stream",
     "text": [
      "/var/folders/2d/q4w5638n0tq6qp416b338_4r0000gn/T/ipykernel_70676/2088679939.py:17: RuntimeWarning: divide by zero encountered in divide\n",
      "  ss = (x_maxs - x_mins) / (n_centroids - 1)\n"
     ]
    }
   ],
   "source": [
    "train_x = train_data[:, :-1]\n",
    "train_y = train_data[:, -1]\n",
    "test_x = test_data[:, :-1]\n",
    "test_y = test_data[:, -1]\n",
    "\n",
    "y_pred = MLR(train_x, train_y, test_x)\n",
    "print(calMSE(y_pred, test_y))\n"
   ]
  },
  {
   "cell_type": "code",
   "execution_count": 65,
   "metadata": {},
   "outputs": [
    {
     "data": {
      "text/plain": [
       "<Axes: xlabel='Duration', ylabel='Calories'>"
      ]
     },
     "execution_count": 65,
     "metadata": {},
     "output_type": "execute_result"
    },
    {
     "data": {
      "image/png": "[encoded data removed]",
      "text/plain": [
       "<Figure size 640x480 with 1 Axes>"
      ]
     },
     "metadata": {},
     "output_type": "display_data"
    }
   ],
   "source": [
    "df = pd.DataFrame(test_data[:, 4], columns=[\"Duration\"])\n",
    "df[\"Calories\"] = pd.DataFrame(y_pred)\n",
    "sns.scatterplot(df, x=\"Duration\", y=\"Calories\")\n"
   ]
  }
 ],
 "metadata": {
  "kernelspec": {
   "display_name": "ML2023",
   "language": "python",
   "name": "python3"
  },
  "language_info": {
   "codemirror_mode": {
    "name": "ipython",
    "version": 3
   },
   "file_extension": ".py",
   "mimetype": "text/x-python",
   "name": "python",
   "nbconvert_exporter": "python",
   "pygments_lexer": "ipython3",
   "version": "3.11.2"
  },
  "orig_nbformat": 4
 },
 "nbformat": 4,
 "nbformat_minor": 2
}
